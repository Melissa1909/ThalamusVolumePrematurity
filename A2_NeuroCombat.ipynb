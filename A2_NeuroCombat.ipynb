{
 "cells": [
  {
   "cell_type": "markdown",
   "id": "3bd5e5e6",
   "metadata": {},
   "source": [
    "This script will perform scanner harmonization using [NeuroCombat](https://github.com/Jfortin1/neuroCombat) (version 0.2.12)."
   ]
  },
  {
   "cell_type": "code",
   "execution_count": 1,
   "id": "e995675f",
   "metadata": {},
   "outputs": [],
   "source": [
    "import os\n",
    "\n",
    "from neuroCombat import neuroCombat\n",
    "\n",
    "import pandas as pd\n",
    "import numpy as np\n",
    "\n",
    "import seaborn as sns\n",
    "import matplotlib.pyplot as plt\n",
    "\n",
    "data_dir='data'"
   ]
  },
  {
   "cell_type": "markdown",
   "id": "edc66c78",
   "metadata": {},
   "source": [
    "# Data preparation"
   ]
  },
  {
   "cell_type": "markdown",
   "id": "e55b8b81",
   "metadata": {},
   "source": [
    "Load datasheet that contains thalamus nuclei volumes, covars, and tiv information after subject and nuclei exclusion."
   ]
  },
  {
   "cell_type": "code",
   "execution_count": 3,
   "id": "7215903b",
   "metadata": {},
   "outputs": [],
   "source": [
    "# load data\n",
    "df = pd.read_csv(os.path.join(data_dir, 'thalamus_stats_exclsubs.csv'), sep=',', index_col=0)"
   ]
  },
  {
   "cell_type": "code",
   "execution_count": 44,
   "id": "824ce334",
   "metadata": {},
   "outputs": [
    {
     "name": "stdout",
     "output_type": "stream",
     "text": [
      "Data shape: (175, 46)\n"
     ]
    }
   ],
   "source": [
    "# separate df for combat\n",
    "nuclei = df.filter(like='Left').columns.union(df.filter(like='Right').columns)\n",
    "data = df[nuclei]\n",
    "print(\"Data shape:\", data.shape)\n",
    "\n",
    "# covars\n",
    "covars = df[df.columns.difference(nuclei)]"
   ]
  },
  {
   "cell_type": "code",
   "execution_count": 45,
   "id": "8f49bf59",
   "metadata": {},
   "outputs": [],
   "source": [
    "# save information about subs and rois to use later\n",
    "rois = data.columns.values.tolist() # save list of rois\n",
    "with open(os.path.join(data_dir, 'roi_names.txt'), 'w') as file:\n",
    "    for roi in rois:\n",
    "        file.write(str(roi) + '\\n')\n",
    "\n",
    "subjects = data.index.values.tolist() # save list of subjects"
   ]
  },
  {
   "cell_type": "code",
   "execution_count": 46,
   "id": "abef1a95",
   "metadata": {},
   "outputs": [
    {
     "name": "stdout",
     "output_type": "stream",
     "text": [
      "Data shape after transposing: (46, 175)\n"
     ]
    }
   ],
   "source": [
    "# reshape data (required for Combat)\n",
    "data_val = data.values #skip headers\n",
    "data_val = data_val.transpose() #transpose data\n",
    "data_val = pd.DataFrame(data_val) #convert to pandas dataframe\n",
    "print(\"Data shape after transposing:\", data_val.shape)"
   ]
  },
  {
   "cell_type": "markdown",
   "id": "e8e43b0d",
   "metadata": {},
   "source": [
    "# Scanner harmonization of eTIV"
   ]
  },
  {
   "cell_type": "markdown",
   "id": "94e4fb0d",
   "metadata": {},
   "source": [
    "To also correct TIV for the scanner effect, it needs to be treated differently compared to the other ROIs (where TIV is preserved in the combat model)."
   ]
  },
  {
   "cell_type": "code",
   "execution_count": 47,
   "id": "f7147ac6",
   "metadata": {},
   "outputs": [
    {
     "name": "stdout",
     "output_type": "stream",
     "text": [
      "(2, 175)\n"
     ]
    },
    {
     "data": {
      "text/html": [
       "<div>\n",
       "<style scoped>\n",
       "    .dataframe tbody tr th:only-of-type {\n",
       "        vertical-align: middle;\n",
       "    }\n",
       "\n",
       "    .dataframe tbody tr th {\n",
       "        vertical-align: top;\n",
       "    }\n",
       "\n",
       "    .dataframe thead th {\n",
       "        text-align: right;\n",
       "    }\n",
       "</style>\n",
       "<table border=\"1\" class=\"dataframe\">\n",
       "  <thead>\n",
       "    <tr style=\"text-align: right;\">\n",
       "      <th></th>\n",
       "      <th>0</th>\n",
       "      <th>1</th>\n",
       "      <th>2</th>\n",
       "      <th>3</th>\n",
       "      <th>4</th>\n",
       "      <th>5</th>\n",
       "      <th>6</th>\n",
       "      <th>7</th>\n",
       "      <th>8</th>\n",
       "      <th>9</th>\n",
       "      <th>...</th>\n",
       "      <th>165</th>\n",
       "      <th>166</th>\n",
       "      <th>167</th>\n",
       "      <th>168</th>\n",
       "      <th>169</th>\n",
       "      <th>170</th>\n",
       "      <th>171</th>\n",
       "      <th>172</th>\n",
       "      <th>173</th>\n",
       "      <th>174</th>\n",
       "    </tr>\n",
       "  </thead>\n",
       "  <tbody>\n",
       "    <tr>\n",
       "      <th>0</th>\n",
       "      <td>1.455519e+06</td>\n",
       "      <td>1.591702e+06</td>\n",
       "      <td>1.546094e+06</td>\n",
       "      <td>1.402174e+06</td>\n",
       "      <td>1.660666e+06</td>\n",
       "      <td>1.665921e+06</td>\n",
       "      <td>1.608302e+06</td>\n",
       "      <td>1.509680e+06</td>\n",
       "      <td>1.568594e+06</td>\n",
       "      <td>1.581962e+06</td>\n",
       "      <td>...</td>\n",
       "      <td>1.447725e+06</td>\n",
       "      <td>1.516066e+06</td>\n",
       "      <td>1.426657e+06</td>\n",
       "      <td>1.368818e+06</td>\n",
       "      <td>1.673638e+06</td>\n",
       "      <td>1.838159e+06</td>\n",
       "      <td>1.521013e+06</td>\n",
       "      <td>1.574888e+06</td>\n",
       "      <td>1.839361e+06</td>\n",
       "      <td>1.696146e+06</td>\n",
       "    </tr>\n",
       "    <tr>\n",
       "      <th>1</th>\n",
       "      <td>6.130946e+05</td>\n",
       "      <td>6.737388e+05</td>\n",
       "      <td>6.675864e+05</td>\n",
       "      <td>6.071131e+05</td>\n",
       "      <td>6.938506e+05</td>\n",
       "      <td>6.903492e+05</td>\n",
       "      <td>6.761984e+05</td>\n",
       "      <td>6.239756e+05</td>\n",
       "      <td>6.736703e+05</td>\n",
       "      <td>6.855047e+05</td>\n",
       "      <td>...</td>\n",
       "      <td>5.689564e+05</td>\n",
       "      <td>6.181003e+05</td>\n",
       "      <td>5.756377e+05</td>\n",
       "      <td>5.376866e+05</td>\n",
       "      <td>6.494480e+05</td>\n",
       "      <td>7.297379e+05</td>\n",
       "      <td>6.145750e+05</td>\n",
       "      <td>6.240683e+05</td>\n",
       "      <td>5.756014e+05</td>\n",
       "      <td>6.938904e+05</td>\n",
       "    </tr>\n",
       "  </tbody>\n",
       "</table>\n",
       "<p>2 rows × 175 columns</p>\n",
       "</div>"
      ],
      "text/plain": [
       "            0             1             2             3             4    \\\n",
       "0  1.455519e+06  1.591702e+06  1.546094e+06  1.402174e+06  1.660666e+06   \n",
       "1  6.130946e+05  6.737388e+05  6.675864e+05  6.071131e+05  6.938506e+05   \n",
       "\n",
       "            5             6             7             8             9    ...  \\\n",
       "0  1.665921e+06  1.608302e+06  1.509680e+06  1.568594e+06  1.581962e+06  ...   \n",
       "1  6.903492e+05  6.761984e+05  6.239756e+05  6.736703e+05  6.855047e+05  ...   \n",
       "\n",
       "            165           166           167           168           169  \\\n",
       "0  1.447725e+06  1.516066e+06  1.426657e+06  1.368818e+06  1.673638e+06   \n",
       "1  5.689564e+05  6.181003e+05  5.756377e+05  5.376866e+05  6.494480e+05   \n",
       "\n",
       "            170           171           172           173           174  \n",
       "0  1.838159e+06  1.521013e+06  1.574888e+06  1.839361e+06  1.696146e+06  \n",
       "1  7.297379e+05  6.145750e+05  6.240683e+05  5.756014e+05  6.938904e+05  \n",
       "\n",
       "[2 rows x 175 columns]"
      ]
     },
     "execution_count": 47,
     "metadata": {},
     "output_type": "execute_result"
    }
   ],
   "source": [
    "# reshape TIV\n",
    "GM_TIV = covars[['EstimatedTotalIntraCranialVol', 'TotalGrayVol']]\n",
    "GM_TIV = GM_TIV.values\n",
    "GM_TIV = GM_TIV.transpose()\n",
    "GM_TIV = pd.DataFrame(GM_TIV)\n",
    "\n",
    "print(GM_TIV.shape)\n",
    "GM_TIV.head()"
   ]
  },
  {
   "cell_type": "code",
   "execution_count": 48,
   "id": "c6e35eb7",
   "metadata": {},
   "outputs": [
    {
     "name": "stdout",
     "output_type": "stream",
     "text": [
      "[neuroCombat] Creating design matrix\n",
      "[neuroCombat] Standardizing data across features\n",
      "[neuroCombat] Fitting L/S model and finding priors\n",
      "[neuroCombat] Finding parametric adjustments\n",
      "[neuroCombat] Final adjustment of data\n"
     ]
    }
   ],
   "source": [
    "tiv_combat = neuroCombat(dat=GM_TIV,\n",
    "                          covars=covars,\n",
    "                          batch_col=['Scanner_ID'],\n",
    "                          categorical_cols=['sex', 'blsgroup'],\n",
    "                          continuous_cols=['Age_at_scan']) ['data']"
   ]
  },
  {
   "cell_type": "code",
   "execution_count": 49,
   "id": "49cd8525",
   "metadata": {},
   "outputs": [],
   "source": [
    "tiv_combat = pd.DataFrame(tiv_combat)\n",
    "tiv_combat = tiv_combat.transpose()\n",
    "tiv_combat.columns = ['TIV_corrected','GMV_corrected']\n",
    "tiv_combat['Subject'] = subjects #add SubjectID column"
   ]
  },
  {
   "cell_type": "code",
   "execution_count": 50,
   "id": "5bbff106",
   "metadata": {},
   "outputs": [
    {
     "name": "stdout",
     "output_type": "stream",
     "text": [
      "(175, 32)\n"
     ]
    }
   ],
   "source": [
    "covars = covars.drop(['EstimatedTotalIntraCranialVol','TotalGrayVol'],axis=1) #drop uncorrected TIV and GMV\n",
    "covars = pd.merge(covars,tiv_combat,on='Subject', how=\"left\")\n",
    "print(covars.shape)"
   ]
  },
  {
   "cell_type": "markdown",
   "id": "b6054012",
   "metadata": {},
   "source": [
    "# Scanner harmonization of thalamus nuclei volumes"
   ]
  },
  {
   "cell_type": "markdown",
   "id": "0447244d",
   "metadata": {},
   "source": [
    "Next, thalamic nuclei volumes will be scanner-corrected, while preserving TIV_corrected (in addition to sex, age, and diagnosis) as a biological variable."
   ]
  },
  {
   "cell_type": "code",
   "execution_count": 51,
   "id": "c5566d6c",
   "metadata": {},
   "outputs": [
    {
     "name": "stdout",
     "output_type": "stream",
     "text": [
      "[neuroCombat] Creating design matrix\n",
      "[neuroCombat] Standardizing data across features\n",
      "[neuroCombat] Fitting L/S model and finding priors\n",
      "[neuroCombat] Finding parametric adjustments\n",
      "[neuroCombat] Final adjustment of data\n"
     ]
    }
   ],
   "source": [
    "combat = neuroCombat(dat=data_val,\n",
    "                          covars=covars,\n",
    "                          batch_col=['Scanner_ID'],\n",
    "                          categorical_cols=['sex','blsgroup'],\n",
    "                          continuous_cols=['Age_at_scan','TIV_corrected']) ['data']"
   ]
  },
  {
   "cell_type": "code",
   "execution_count": 52,
   "id": "a4f52c3b",
   "metadata": {},
   "outputs": [],
   "source": [
    "combat_output = pd.DataFrame(combat)"
   ]
  },
  {
   "cell_type": "code",
   "execution_count": 53,
   "id": "c1e895b5",
   "metadata": {},
   "outputs": [
    {
     "data": {
      "text/html": [
       "<div>\n",
       "<style scoped>\n",
       "    .dataframe tbody tr th:only-of-type {\n",
       "        vertical-align: middle;\n",
       "    }\n",
       "\n",
       "    .dataframe tbody tr th {\n",
       "        vertical-align: top;\n",
       "    }\n",
       "\n",
       "    .dataframe thead th {\n",
       "        text-align: right;\n",
       "    }\n",
       "</style>\n",
       "<table border=\"1\" class=\"dataframe\">\n",
       "  <thead>\n",
       "    <tr style=\"text-align: right;\">\n",
       "      <th></th>\n",
       "      <th>Left-AV</th>\n",
       "      <th>Left-CL</th>\n",
       "      <th>Left-CM</th>\n",
       "      <th>Left-CeM</th>\n",
       "      <th>Left-LD</th>\n",
       "      <th>Left-LP</th>\n",
       "      <th>Left-MDl</th>\n",
       "      <th>Left-MDm</th>\n",
       "      <th>Left-MV(Re)</th>\n",
       "      <th>Left-Pc</th>\n",
       "      <th>...</th>\n",
       "      <th>Right-PuL</th>\n",
       "      <th>Right-PuM</th>\n",
       "      <th>Right-VA</th>\n",
       "      <th>Right-VAmc</th>\n",
       "      <th>Right-VLa</th>\n",
       "      <th>Right-VLp</th>\n",
       "      <th>Right-VM</th>\n",
       "      <th>Right-VPL</th>\n",
       "      <th>Right-Whole_thalamus</th>\n",
       "      <th>Subject</th>\n",
       "    </tr>\n",
       "  </thead>\n",
       "  <tbody>\n",
       "    <tr>\n",
       "      <th>0</th>\n",
       "      <td>108.987197</td>\n",
       "      <td>32.940172</td>\n",
       "      <td>214.734026</td>\n",
       "      <td>62.727183</td>\n",
       "      <td>38.253734</td>\n",
       "      <td>140.918801</td>\n",
       "      <td>235.673108</td>\n",
       "      <td>728.019139</td>\n",
       "      <td>14.133652</td>\n",
       "      <td>3.278010</td>\n",
       "      <td>...</td>\n",
       "      <td>143.759018</td>\n",
       "      <td>1048.908250</td>\n",
       "      <td>454.148010</td>\n",
       "      <td>33.009275</td>\n",
       "      <td>581.939144</td>\n",
       "      <td>723.119299</td>\n",
       "      <td>18.337792</td>\n",
       "      <td>677.559130</td>\n",
       "      <td>6225.124147</td>\n",
       "      <td>BEST-BN-001</td>\n",
       "    </tr>\n",
       "    <tr>\n",
       "      <th>1</th>\n",
       "      <td>124.311589</td>\n",
       "      <td>35.156902</td>\n",
       "      <td>228.722334</td>\n",
       "      <td>56.147848</td>\n",
       "      <td>36.369998</td>\n",
       "      <td>137.758627</td>\n",
       "      <td>258.356131</td>\n",
       "      <td>776.737547</td>\n",
       "      <td>11.811479</td>\n",
       "      <td>3.858323</td>\n",
       "      <td>...</td>\n",
       "      <td>179.755594</td>\n",
       "      <td>896.387790</td>\n",
       "      <td>457.408144</td>\n",
       "      <td>33.405715</td>\n",
       "      <td>696.380328</td>\n",
       "      <td>865.592828</td>\n",
       "      <td>25.076973</td>\n",
       "      <td>807.354964</td>\n",
       "      <td>6580.098469</td>\n",
       "      <td>BEST-BN-002</td>\n",
       "    </tr>\n",
       "    <tr>\n",
       "      <th>2</th>\n",
       "      <td>144.967620</td>\n",
       "      <td>43.005783</td>\n",
       "      <td>268.110350</td>\n",
       "      <td>64.367554</td>\n",
       "      <td>33.860415</td>\n",
       "      <td>129.496519</td>\n",
       "      <td>275.909071</td>\n",
       "      <td>818.483024</td>\n",
       "      <td>14.442932</td>\n",
       "      <td>3.451785</td>\n",
       "      <td>...</td>\n",
       "      <td>143.151764</td>\n",
       "      <td>908.774362</td>\n",
       "      <td>395.516976</td>\n",
       "      <td>29.153522</td>\n",
       "      <td>617.965233</td>\n",
       "      <td>802.539690</td>\n",
       "      <td>19.199389</td>\n",
       "      <td>816.432781</td>\n",
       "      <td>6174.006278</td>\n",
       "      <td>BEST-BN-004</td>\n",
       "    </tr>\n",
       "  </tbody>\n",
       "</table>\n",
       "<p>3 rows × 47 columns</p>\n",
       "</div>"
      ],
      "text/plain": [
       "      Left-AV    Left-CL     Left-CM   Left-CeM    Left-LD     Left-LP  \\\n",
       "0  108.987197  32.940172  214.734026  62.727183  38.253734  140.918801   \n",
       "1  124.311589  35.156902  228.722334  56.147848  36.369998  137.758627   \n",
       "2  144.967620  43.005783  268.110350  64.367554  33.860415  129.496519   \n",
       "\n",
       "     Left-MDl    Left-MDm  Left-MV(Re)   Left-Pc  ...   Right-PuL  \\\n",
       "0  235.673108  728.019139    14.133652  3.278010  ...  143.759018   \n",
       "1  258.356131  776.737547    11.811479  3.858323  ...  179.755594   \n",
       "2  275.909071  818.483024    14.442932  3.451785  ...  143.151764   \n",
       "\n",
       "     Right-PuM    Right-VA  Right-VAmc   Right-VLa   Right-VLp   Right-VM  \\\n",
       "0  1048.908250  454.148010   33.009275  581.939144  723.119299  18.337792   \n",
       "1   896.387790  457.408144   33.405715  696.380328  865.592828  25.076973   \n",
       "2   908.774362  395.516976   29.153522  617.965233  802.539690  19.199389   \n",
       "\n",
       "    Right-VPL  Right-Whole_thalamus      Subject  \n",
       "0  677.559130           6225.124147  BEST-BN-001  \n",
       "1  807.354964           6580.098469  BEST-BN-002  \n",
       "2  816.432781           6174.006278  BEST-BN-004  \n",
       "\n",
       "[3 rows x 47 columns]"
      ]
     },
     "execution_count": 53,
     "metadata": {},
     "output_type": "execute_result"
    }
   ],
   "source": [
    "# convert the array into a dataframe and add headers\n",
    "combat_output = pd.DataFrame(combat)\n",
    "combat_output = combat_output.transpose() #transpose data\n",
    "combat_output.columns = rois #add header \n",
    "combat_output['Subject'] = subjects #add SubjectID column\n",
    "combat_output.head(3)"
   ]
  },
  {
   "cell_type": "code",
   "execution_count": 54,
   "id": "dd46b02d",
   "metadata": {},
   "outputs": [
    {
     "name": "stdout",
     "output_type": "stream",
     "text": [
      "(175, 77)\n"
     ]
    }
   ],
   "source": [
    "# add covars info to combat_output\n",
    "combat_output_all = pd.merge(combat_output, covars, on='Subject', how=\"left\")\n",
    "combat_output_all.set_index('Subject',inplace=True)\n",
    "print(combat_output_all.shape)"
   ]
  },
  {
   "cell_type": "code",
   "execution_count": 55,
   "id": "6176054f",
   "metadata": {},
   "outputs": [],
   "source": [
    "combat_output_all.to_csv(os.path.join(data_dir,'NeuroCombatCorrected_thalamusseg.csv'), index=True)"
   ]
  }
 ],
 "metadata": {
  "kernelspec": {
   "display_name": "Python 3 (ipykernel)",
   "language": "python",
   "name": "python3"
  },
  "language_info": {
   "codemirror_mode": {
    "name": "ipython",
    "version": 3
   },
   "file_extension": ".py",
   "mimetype": "text/x-python",
   "name": "python",
   "nbconvert_exporter": "python",
   "pygments_lexer": "ipython3",
   "version": "3.10.14"
  },
  "toc": {
   "base_numbering": 1,
   "nav_menu": {},
   "number_sections": true,
   "sideBar": true,
   "skip_h1_title": false,
   "title_cell": "Table of Contents",
   "title_sidebar": "Contents",
   "toc_cell": false,
   "toc_position": {},
   "toc_section_display": true,
   "toc_window_display": false
  }
 },
 "nbformat": 4,
 "nbformat_minor": 5
}
