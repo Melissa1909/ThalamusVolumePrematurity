{
 "cells": [
  {
   "cell_type": "markdown",
   "id": "0aca9faa",
   "metadata": {},
   "source": [
    "Script to exclude subjects based on IQR (statistical outliers)."
   ]
  },
  {
   "cell_type": "code",
   "execution_count": 60,
   "id": "78f6ffce",
   "metadata": {},
   "outputs": [],
   "source": [
    "import os\n",
    "import pandas as pd\n",
    "import numpy as np\n",
    "\n",
    "data_dir = 'data/datasheets'"
   ]
  },
  {
   "cell_type": "markdown",
   "id": "e240c54a",
   "metadata": {},
   "source": [
    "# Load FreeSurfer output and meta information"
   ]
  },
  {
   "cell_type": "markdown",
   "id": "63bf4346",
   "metadata": {},
   "source": [
    "Subjects were processed with FreeSurfer's [recon-all pipeline](https://surfer.nmr.mgh.harvard.edu/fswiki/recon-all) (version 7.3.2) and the [ThalamicNuclei pipeline](https://surfer.nmr.mgh.harvard.edu/fswiki/SubregionSegmentation). Volumes in mm<sup>3</sup> were directly extracted from FreeSurfer and loaded here."
   ]
  },
  {
   "cell_type": "code",
   "execution_count": 61,
   "id": "48fe240b",
   "metadata": {},
   "outputs": [],
   "source": [
    "# load thalamic nuclei volumes\n",
    "data = pd.read_csv(os.path.join(data_dir, 'thalamus_volumes_BEST.txt'), index_col=0, sep=' ')\n",
    "\n",
    "# load aseg\n",
    "aseg = pd.read_csv(os.path.join(data_dir, 'aseg_BEST7.3.2_volume.txt'), sep='\\t', index_col=0)\n",
    "aseg.index.name='Subject'\n",
    "tiv = aseg[['EstimatedTotalIntraCranialVol']]\n",
    "totalGM = aseg[['TotalGrayVol']]"
   ]
  },
  {
   "cell_type": "code",
   "execution_count": 62,
   "id": "b3d3c412",
   "metadata": {},
   "outputs": [],
   "source": [
    "# load covars\n",
    "meta = pd.read_excel(os.path.join(data_dir, 'BEST_meta_n212.xlsx'), index_col=0)\n",
    "meta.index.name='Subject'\n",
    "meta.rename(columns={'Age_at_scan2': 'Age_at_scan'}, inplace=True)"
   ]
  },
  {
   "cell_type": "code",
   "execution_count": 63,
   "id": "d6489cf5",
   "metadata": {},
   "outputs": [],
   "source": [
    "# add tiv and GMV to meta information\n",
    "meta_tiv = pd.merge(meta, tiv, on=\"Subject\")\n",
    "meta_tiv = pd.merge(meta_tiv, totalGM, on=\"Subject\")"
   ]
  },
  {
   "cell_type": "code",
   "execution_count": 64,
   "id": "5133bf35",
   "metadata": {},
   "outputs": [],
   "source": [
    "# merge meta_tiv and data\n",
    "data_complete_subs = data.merge(meta_tiv, on='Subject', how='inner')"
   ]
  },
  {
   "cell_type": "markdown",
   "id": "58bcd9b8",
   "metadata": {},
   "source": [
    "# Quality control"
   ]
  },
  {
   "cell_type": "markdown",
   "id": "b7d1a850",
   "metadata": {},
   "source": [
    "## Quality assessment of cortical reconstruction"
   ]
  },
  {
   "cell_type": "markdown",
   "id": "afd92c36",
   "metadata": {},
   "source": [
    "For all available subjects, [QA tools by FreeSurfer](https://surfer.nmr.mgh.harvard.edu/fswiki/QATools) was run. Screenshots were visually inspected, and doubtful cases were checked in Freeview. No subject was excluded."
   ]
  },
  {
   "cell_type": "code",
   "execution_count": 65,
   "id": "79299ca2",
   "metadata": {},
   "outputs": [],
   "source": [
    "# load csv file containing excluded subjects\n",
    "excl_recon = pd.read_excel(os.path.join(data_dir, 'QC_BEST_thalamus_nuclei.xlsx'), sheet_name='recon-all')\n",
    "excl_recon = excl_recon[excl_recon['exclude']==1]"
   ]
  },
  {
   "cell_type": "code",
   "execution_count": 66,
   "id": "db78e029",
   "metadata": {},
   "outputs": [],
   "source": [
    "# clean data from excluded subjects\n",
    "data_complete_subs_sliced = data_complete_subs[~data_complete_subs.index.isin(excl_recon)]"
   ]
  },
  {
   "cell_type": "markdown",
   "id": "ce8c491d",
   "metadata": {},
   "source": [
    "## Quality assessment of the thalamus segmentation"
   ]
  },
  {
   "cell_type": "code",
   "execution_count": 67,
   "id": "4ff4616d",
   "metadata": {},
   "outputs": [],
   "source": [
    "# only select columns containing nuclei volumes and Scanner_ID\n",
    "data_nuclei = data_complete_subs_sliced['Scanner_ID']\n",
    "nuclei = data_complete_subs_sliced.filter(like='Left').columns.union(data_complete_subs_sliced.filter(like='Right').columns)\n",
    "data_nuclei = data_complete_subs_sliced[nuclei].copy()\n",
    "data_nuclei['Scanner_ID'] = data_complete_subs_sliced['Scanner_ID']"
   ]
  },
  {
   "cell_type": "markdown",
   "id": "15827c8f",
   "metadata": {},
   "source": [
    "Following [previous literature](https://pubmed.ncbi.nlm.nih.gov/35190533/), the L-Sg, MGN, and LGN were excluded due to poor segmentation quality and/or small size and resulting vulnerability to inaccurate segmentation. "
   ]
  },
  {
   "cell_type": "code",
   "execution_count": 68,
   "id": "10ab364b",
   "metadata": {},
   "outputs": [],
   "source": [
    "# drop unrelevant nuclei\n",
    "data_nuclei = data_nuclei.drop(['Left-LGN','Right-LGN','Left-MGN','Right-MGN','Left-L-Sg','Right-L-Sg'], axis=1)"
   ]
  },
  {
   "cell_type": "markdown",
   "id": "4612d453",
   "metadata": {},
   "source": [
    "For each of the remaining 22 nuclei per hemisphere, the statistical outliers are determined by calculating the interquartile range (IQR). Similar to [Weeland et al 2022](https://pubmed.ncbi.nlm.nih.gov/35190533/), subjects with a thalamic nuclei volume of below Q1 - 1.5 * IQR or above Q3 + 1.5 * IQR are classified as outliers."
   ]
  },
  {
   "cell_type": "code",
   "execution_count": 69,
   "id": "c7431284",
   "metadata": {},
   "outputs": [],
   "source": [
    "def calculate_iqr(site_number, data):\n",
    "    '''\n",
    "    To calculate IQR for each site.\n",
    "    site_number: [1-4]\n",
    "    data: df\n",
    "    '''\n",
    "    \n",
    "    # filter data for site\n",
    "    site_data = data[data['Scanner_ID'] == site_number].copy()\n",
    "    site_data.drop(['Scanner_ID', 'Left-Whole_thalamus','Right-Whole_thalamus'], axis=1, inplace=True)\n",
    "    site_data_np = site_data.to_numpy()\n",
    "\n",
    "    # calculate Q1 and Q3 for each column (i.e., nucleus)\n",
    "    q1, q3 = np.percentile(site_data_np, [25, 75], axis=0)\n",
    "    iqr = q3 - q1\n",
    "    outlier_below = q1 - 1.5 * iqr\n",
    "    outlier_above = q3 + 1.5 * iqr\n",
    "    \n",
    "### get outliers per region\n",
    "    d = dict()\n",
    "    lst = []\n",
    "    keys = site_data.columns\n",
    "\n",
    "    for roi in range(0, site_data.shape[1]):\n",
    "        vals = pd.DataFrame(site_data.iloc[:,roi])\n",
    "    \n",
    "        for idx, row in vals.iterrows():\n",
    "            if float(row) < outlier_below[roi] or float(row) > outlier_above[roi]:\n",
    "                lst.append(idx)\n",
    "            d[keys[roi]] = lst\n",
    "            \n",
    "        lst = []\n",
    " \n",
    "    \n",
    "### get list of all subjects that have at least one outlier value\n",
    "    df = pd.DataFrame(list(d.items()), columns = ['ROIs', 'outliers'])\n",
    "\n",
    "    all_outliers = set() #get rid of duplicates\n",
    "    for i in d.values():\n",
    "        for j in i:\n",
    "            all_outliers.add(j)\n",
    "          \n",
    "        \n",
    "### get amount of outliers per subject\n",
    "    outlier_lst = [] \n",
    "    for i in d.values():\n",
    "        for j in i:\n",
    "            outlier_lst.append(j)\n",
    "\n",
    "    amount_outlier = pd.DataFrame(columns=['Subject_ID','count_outliers'])\n",
    "    i=0\n",
    "    for sub in all_outliers:\n",
    "        count = outlier_lst.count(sub)\n",
    "        amount_outlier.loc[i,'Subject_ID'] = sub\n",
    "        amount_outlier.loc[i,'count_outliers'] = count\n",
    "        i = i+1\n",
    "\n",
    "    return all_outliers, amount_outlier"
   ]
  },
  {
   "cell_type": "code",
   "execution_count": 70,
   "id": "ef2a03e9",
   "metadata": {},
   "outputs": [],
   "source": [
    "# calculate the amount of outliers per site\n",
    "(all_outliers_s1, amount_outlier_s1) = calculate_iqr(1, data_nuclei)\n",
    "(all_outliers_s2, amount_outlier_s2) = calculate_iqr(2, data_nuclei)\n",
    "(all_outliers_s3, amount_outlier_s3) = calculate_iqr(3, data_nuclei)\n",
    "(all_outliers_s4, amount_outlier_s4) = calculate_iqr(4, data_nuclei)"
   ]
  },
  {
   "cell_type": "code",
   "execution_count": 71,
   "id": "f6aec7fd",
   "metadata": {},
   "outputs": [],
   "source": [
    "# concat amount of outliers per subject\n",
    "outliers_per_sub = pd.concat([amount_outlier_s1, amount_outlier_s2, amount_outlier_s3, amount_outlier_s4], axis=0)\n",
    "outliers_per_sub = outliers_per_sub.sort_values('count_outliers', ascending=False)\n",
    "outliers_per_sub.to_csv(os.path.join(data_dir, 'QC_outliers_per_sub_iqrBased.csv'), index=False)"
   ]
  },
  {
   "cell_type": "markdown",
   "id": "b9647463",
   "metadata": {},
   "source": [
    "Furthermore, thalamus segmentations by ThalamicNuclei that deviated more than 20% from the native (aseg) FreeSurfer segmentation of the thalamus were also flagged and visually inspected. "
   ]
  },
  {
   "cell_type": "code",
   "execution_count": 72,
   "id": "af4c7570",
   "metadata": {},
   "outputs": [],
   "source": [
    "# get thalamus vol based on aseg\n",
    "aseg_thalamus = aseg[['Left-Thalamus', 'Right-Thalamus']].copy()\n",
    "aseg_thalamus.rename(columns={'Left-Thalamus':'LThalamus_aseg', 'Right-Thalamus':'RThalamus_aseg'}, inplace=True)\n",
    "\n",
    "# compare it to thalamus seg volumes\n",
    "thalseg_thalamus = data_complete_subs_sliced[['Left-Whole_thalamus','Right-Whole_thalamus']].copy()\n",
    "thalseg_thalamus.rename(columns={'Left-Whole_thalamus':'LThalamus_thalseg', \n",
    "                                 'Right-Whole_thalamus':'RThalamus_thalseg'}, inplace=True)\n",
    "\n",
    "# merge\n",
    "thalvols = aseg_thalamus.merge(thalseg_thalamus, on='Subject')\n",
    "thalvols.head()\n",
    "\n",
    "# calculate ratio of aseg and thalseg\n",
    "thalvols['ratio_L'] = thalvols['LThalamus_thalseg'] / thalvols['LThalamus_aseg']\n",
    "thalvols['ratio_R'] = thalvols['RThalamus_thalseg'] / thalvols['RThalamus_aseg']\n",
    "\n",
    "# mark deviations that are more than 20% \n",
    "aseg_deviators = thalvols[(thalvols['ratio_L'] < 0.8) | (thalvols['ratio_L'] > 1.2) | \n",
    "                          (thalvols['ratio_R'] < 0.8) | (thalvols['ratio_R'] > 1.2)]\n",
    "aseg_deviators.to_csv(os.path.join(data_dir, 'QC_aseg_deviators.csv'))"
   ]
  },
  {
   "cell_type": "code",
   "execution_count": 73,
   "id": "d17b5ef7",
   "metadata": {},
   "outputs": [],
   "source": [
    "# create a list of subjects to visually inspect\n",
    "subjects_to_inspect = aseg_deviators.index.to_list() + outliers_per_sub.Subject_ID.to_list()\n",
    "subjects_to_inspect = set(subjects_to_inspect) #convert to set to have no duplicates\n",
    "subjects_to_inspect = list(subjects_to_inspect)\n",
    "subjects_to_inspect = sorted(subjects_to_inspect) #sort alphabetically\n",
    "\n",
    "file_path = os.path.join(data_dir, 'QC_subjects_to_inspect.txt')\n",
    "with open(file_path, 'w') as file:\n",
    "    for element in subjects_to_inspect:\n",
    "        file.write(str(element) + '\\n')"
   ]
  },
  {
   "cell_type": "markdown",
   "id": "d8085672",
   "metadata": {},
   "source": [
    "<div class=\"alert alert-block alert-warning\">\n",
    "<b>Manual intervention:</b> Visually check all outliers saved in <i>QC_outliers_per_sub_iqrBased.csv</i> and aseg deviators saved in <i>QC_aseg_deviators.csv</i> in Freeview and add the ones you consider a segmentation failure below. \n",
    "</div>"
   ]
  },
  {
   "cell_type": "markdown",
   "id": "ea913297",
   "metadata": {},
   "source": [
    "After inspection, the following criteria were defined for subject exclusion:\n",
    "- all subjects with more than 5 nuclei that are statistical outliers are excluded\n",
    "- subjects that did not pass visual quality check are excluded"
   ]
  },
  {
   "cell_type": "code",
   "execution_count": 74,
   "id": "c32364a7",
   "metadata": {},
   "outputs": [],
   "source": [
    "# exclude > 5 outliers based on IQR\n",
    "outliers_per_sub_over5 = outliers_per_sub[outliers_per_sub['count_outliers']>= 5]\n",
    "outliers_per_sub_over5 = outliers_per_sub_over5['Subject_ID'].to_list()\n",
    "\n",
    "excl = []\n",
    "for element in outliers_per_sub_over5:\n",
    "    excl.append(element)"
   ]
  },
  {
   "cell_type": "code",
   "execution_count": 75,
   "id": "6a080840",
   "metadata": {},
   "outputs": [],
   "source": [
    "# load notes stating excluded subjects based on visual inspections\n",
    "further_exclusions = pd.read_excel(os.path.join(data_dir, 'QC_BEST_thalamus_nuclei.xlsx'), sheet_name='thalamus-seg')\n",
    "further_exclusions = further_exclusions[further_exclusions['exclude']==1]\n",
    "further_exclusions = further_exclusions.subject_id.to_list()\n",
    "\n",
    "excl.extend(further_exclusions)"
   ]
  },
  {
   "cell_type": "code",
   "execution_count": 76,
   "id": "37c9905b",
   "metadata": {},
   "outputs": [],
   "source": [
    "# save final list of excluded subjects\n",
    "file_name = os.path.join(data_dir, 'QC_excluded_subjects_thalamusseg.txt')\n",
    "with open(file_name, 'w') as fp:\n",
    "    for item in excl:\n",
    "        fp.write(\"%s\\n\" % item)\n",
    "        "
   ]
  },
  {
   "cell_type": "code",
   "execution_count": 77,
   "id": "13de028f",
   "metadata": {},
   "outputs": [
    {
     "name": "stdout",
     "output_type": "stream",
     "text": [
      "Final amount of subjects: 175\n"
     ]
    }
   ],
   "source": [
    "# cleaning up and actually excluding flagged subjects\n",
    "data_nuclei = data_nuclei.drop(['Scanner_ID'], axis=1) \n",
    "data_nuclei = data_nuclei.merge(meta_tiv, on='Subject')\n",
    "\n",
    "data_sliced = data_nuclei[~data_nuclei.index.isin(excl)]\n",
    "data_sliced.to_csv(os.path.join(data_dir,'thalamus_stats_exclsubs.csv'),index=True)\n",
    "print(\"Final amount of subjects:\", data_sliced.shape[0])"
   ]
  }
 ],
 "metadata": {
  "kernelspec": {
   "display_name": "Python 3 (ipykernel)",
   "language": "python",
   "name": "python3"
  },
  "language_info": {
   "codemirror_mode": {
    "name": "ipython",
    "version": 3
   },
   "file_extension": ".py",
   "mimetype": "text/x-python",
   "name": "python",
   "nbconvert_exporter": "python",
   "pygments_lexer": "ipython3",
   "version": "3.10.14"
  },
  "toc": {
   "base_numbering": 1,
   "nav_menu": {},
   "number_sections": true,
   "sideBar": true,
   "skip_h1_title": false,
   "title_cell": "Table of Contents",
   "title_sidebar": "Contents",
   "toc_cell": false,
   "toc_position": {},
   "toc_section_display": true,
   "toc_window_display": false
  }
 },
 "nbformat": 4,
 "nbformat_minor": 5
}
