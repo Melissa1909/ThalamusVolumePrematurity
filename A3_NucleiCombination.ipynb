{
 "cells": [
  {
   "cell_type": "markdown",
   "id": "36309b3e",
   "metadata": {},
   "source": [
    "Combine thalamic nuclei into groups similar to the suggestion by [Igleasias et al 2022](https://doi.org/10.1016/j.neuroimage.2018.08.012). "
   ]
  },
  {
   "cell_type": "code",
   "execution_count": 11,
   "id": "a378430d",
   "metadata": {},
   "outputs": [],
   "source": [
    "import os \n",
    "import pandas as pd\n",
    "import numpy as np\n",
    "\n",
    "import seaborn as sns\n",
    "import matplotlib.pyplot as plt\n",
    "\n",
    "data_dir = 'data/datasheets'"
   ]
  },
  {
   "cell_type": "code",
   "execution_count": 12,
   "id": "2ad667f2",
   "metadata": {},
   "outputs": [],
   "source": [
    "data = pd.read_csv(os.path.join(data_dir,'NeuroCombatCorrected_thalamusseg.csv'), index_col=0)"
   ]
  },
  {
   "cell_type": "markdown",
   "id": "64c4f3c4",
   "metadata": {},
   "source": [
    "# Separated hemispheres"
   ]
  },
  {
   "cell_type": "markdown",
   "id": "dae10686",
   "metadata": {},
   "source": [
    "First, hemispheres are kept separately (for the analysis in the supplement)..."
   ]
  },
  {
   "cell_type": "code",
   "execution_count": 13,
   "id": "215b4f58",
   "metadata": {},
   "outputs": [],
   "source": [
    "data_final = data[['Age_at_scan','sex', 'Scanner_ID','blsgroup','TIV_corrected', 'GMV_corrected']]\n",
    "\n",
    "# anterior\n",
    "data_final.insert(6,'LAnterior', data[['Left-AV']].sum(axis=1))\n",
    "data_final.insert(7,'RAnterior', data[['Right-AV']].sum(axis=1))\n",
    "\n",
    "# lateral\n",
    "data_final.insert(8,'LLateral', data[['Left-LD','Left-LP']].sum(axis=1))\n",
    "data_final.insert(9,'RLateral', data[['Right-LD','Right-LP']].sum(axis=1))\n",
    "\n",
    "# ventral\n",
    "data_final.insert(10,'LVentral', data[['Left-VA','Left-VAmc','Left-VLa','Left-VLp', 'Left-VPL', 'Left-VM']].sum(axis=1))\n",
    "data_final.insert(11,'RVentral', data[['Right-VA','Right-VAmc','Right-VLa','Right-VLp', 'Right-VPL','Right-VM']].sum(axis=1))\n",
    "\n",
    "# intralaminar\n",
    "data_final.insert(12,'LIntralaminar', data[['Left-CeM','Left-CL','Left-Pc','Left-CM','Left-Pf']].sum(axis=1))\n",
    "data_final.insert(13,'RIntralaminar', data[['Right-CeM','Right-CL','Right-Pc','Right-CM','Right-Pf']].sum(axis=1))\n",
    "\n",
    "# medial\n",
    "data_final.insert(14,'LMedial', data[['Left-Pt','Left-MV(Re)','Left-MDm','Left-MDl']].sum(axis=1))\n",
    "data_final.insert(15,'RMedial', data[['Right-Pt','Right-MV(Re)','Right-MDm','Right-MDl']].sum(axis=1))\n",
    "\n",
    "# pulvinar\n",
    "data_final.insert(16,'LPulvinar', data[['Left-PuA','Left-PuM','Left-PuL','Left-PuI']].sum(axis=1))\n",
    "data_final.insert(17,'RPulvinar', data[['Right-PuA','Right-PuM','Right-PuL','Right-PuI']].sum(axis=1))\n"
   ]
  },
  {
   "cell_type": "code",
   "execution_count": 14,
   "id": "73ddff0c",
   "metadata": {},
   "outputs": [
    {
     "data": {
      "text/plain": [
       "(175, 24)"
      ]
     },
     "execution_count": 14,
     "metadata": {},
     "output_type": "execute_result"
    }
   ],
   "source": [
    "# add birth-related variables and IQ\n",
    "data_final=data_final.merge(data[['Left-Whole_thalamus', 'Right-Whole_thalamus',\n",
    "                                  'GA','BW','inti','wie_gesiq']], on='Subject')\n",
    "data_final.shape"
   ]
  },
  {
   "cell_type": "code",
   "execution_count": 15,
   "id": "405a354f",
   "metadata": {},
   "outputs": [],
   "source": [
    "# save\n",
    "data_final.to_csv(os.path.join(data_dir, 'CombinedThalamicNucleiCorrected_separateHemis.csv'),index=True)"
   ]
  },
  {
   "cell_type": "markdown",
   "id": "0fc2a65d",
   "metadata": {},
   "source": [
    "# Combined hemispheres"
   ]
  },
  {
   "cell_type": "markdown",
   "id": "c45b1475",
   "metadata": {},
   "source": [
    "... then, hemispheres are averaged."
   ]
  },
  {
   "cell_type": "code",
   "execution_count": 16,
   "id": "5562bea1",
   "metadata": {
    "scrolled": true
   },
   "outputs": [],
   "source": [
    "data_final.insert(6,'Anterior', data_final[['LAnterior','RAnterior']].sum(axis=1))\n",
    "data_final.drop(['LAnterior','RAnterior'],axis=1,inplace=True)\n",
    "\n",
    "data_final.insert(7,'Lateral', data_final[['LLateral','RLateral']].sum(axis=1))\n",
    "data_final.drop(['LLateral','RLateral'],axis=1,inplace=True)\n",
    "\n",
    "data_final.insert(8,'Ventral', data_final[['LVentral','RVentral']].sum(axis=1))\n",
    "data_final.drop(['LVentral','RVentral'],axis=1,inplace=True)\n",
    "\n",
    "data_final.insert(9,'Intralaminar', data_final[['LIntralaminar','RIntralaminar']].sum(axis=1))\n",
    "data_final.drop(['LIntralaminar','RIntralaminar'],axis=1,inplace=True)\n",
    "\n",
    "data_final.insert(10,'Medial', data_final[['LMedial','RMedial']].sum(axis=1))\n",
    "data_final.drop(['LMedial','RMedial'],axis=1,inplace=True)\n",
    "\n",
    "data_final.insert(11,'Pulvinar', data_final[['LPulvinar','RPulvinar']].sum(axis=1))\n",
    "data_final.drop(['LPulvinar','RPulvinar'],axis=1,inplace=True)"
   ]
  },
  {
   "cell_type": "code",
   "execution_count": 17,
   "id": "b21b3687",
   "metadata": {},
   "outputs": [],
   "source": [
    "# save\n",
    "data_final.to_csv(os.path.join(data_dir, 'CombinedThalamicNucleiCorrected_combinedHemis.csv'),index=True)"
   ]
  }
 ],
 "metadata": {
  "kernelspec": {
   "display_name": "Python 3 (ipykernel)",
   "language": "python",
   "name": "python3"
  },
  "language_info": {
   "codemirror_mode": {
    "name": "ipython",
    "version": 3
   },
   "file_extension": ".py",
   "mimetype": "text/x-python",
   "name": "python",
   "nbconvert_exporter": "python",
   "pygments_lexer": "ipython3",
   "version": "3.10.14"
  },
  "toc": {
   "base_numbering": 1,
   "nav_menu": {},
   "number_sections": true,
   "sideBar": true,
   "skip_h1_title": false,
   "title_cell": "Table of Contents",
   "title_sidebar": "Contents",
   "toc_cell": false,
   "toc_position": {},
   "toc_section_display": true,
   "toc_window_display": false
  }
 },
 "nbformat": 4,
 "nbformat_minor": 5
}
