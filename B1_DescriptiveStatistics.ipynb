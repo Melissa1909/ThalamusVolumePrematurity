{
 "cells": [
  {
   "cell_type": "code",
   "execution_count": 18,
   "id": "a9b22a9e",
   "metadata": {
    "scrolled": true
   },
   "outputs": [],
   "source": [
    "import os\n",
    "import pandas as pd\n",
    "import numpy as np\n",
    "import matplotlib.pyplot as plt\n",
    "\n",
    "import pingouin as pg\n",
    "import scipy.stats as stats\n",
    "from scipy.stats import chi2_contingency\n",
    "\n",
    "data_dir = 'data/datasheets'\n",
    "analysis_dir = 'analysis/descriptive_stats'\n",
    "os.makedirs(analysis_dir, exist_ok=True)"
   ]
  },
  {
   "cell_type": "code",
   "execution_count": 19,
   "id": "5b8fafa6",
   "metadata": {},
   "outputs": [],
   "source": [
    "# laod preprocessed thalamic nuclei volumes \n",
    "all_data = pd.read_csv(os.path.join(data_dir, 'CombinedThalamicNucleiCorrected_combinedHemis.csv'), index_col=0)\n",
    "\n",
    "# separate preterm and term subjects\n",
    "preterm_data = all_data[all_data['blsgroup'] == 1]\n",
    "fullterm_data = all_data[all_data['blsgroup'] == 2]"
   ]
  },
  {
   "cell_type": "markdown",
   "id": "3a0d5c52",
   "metadata": {},
   "source": [
    "# Descriptive stats"
   ]
  },
  {
   "cell_type": "markdown",
   "id": "384c9388",
   "metadata": {},
   "source": [
    "Descriptive statistics for:\n",
    "- <b> Age_at_scan:</b> age of participant at MRI scan\n",
    "- <b> sex:</b> </b> sex of participant (1=male, 2=female)\n",
    "- <b>TIV_corrected:</b> estimated total intracranial volume calculated by FreeSurfer, corrected for scanner-effect using NeuroCombat\n",
    "- <b>inti:</b> intensity of neonatal treatment\n",
    "- <b>GA:</b> gestational age\n",
    "- <b>BW:</b> birth weight"
   ]
  },
  {
   "cell_type": "code",
   "execution_count": 20,
   "id": "347294a1",
   "metadata": {},
   "outputs": [],
   "source": [
    "# measures for descriptive statistics\n",
    "measures = ['Age_at_scan', 'sex', 'TIV_corrected', 'inti', 'GA', 'BW', 'wie_gesiq']"
   ]
  },
  {
   "cell_type": "markdown",
   "id": "48133c67",
   "metadata": {},
   "source": [
    "## Preterm stats"
   ]
  },
  {
   "cell_type": "code",
   "execution_count": 21,
   "id": "da23ce5e",
   "metadata": {},
   "outputs": [
    {
     "data": {
      "text/html": [
       "<div>\n",
       "<style scoped>\n",
       "    .dataframe tbody tr th:only-of-type {\n",
       "        vertical-align: middle;\n",
       "    }\n",
       "\n",
       "    .dataframe tbody tr th {\n",
       "        vertical-align: top;\n",
       "    }\n",
       "\n",
       "    .dataframe thead th {\n",
       "        text-align: right;\n",
       "    }\n",
       "</style>\n",
       "<table border=\"1\" class=\"dataframe\">\n",
       "  <thead>\n",
       "    <tr style=\"text-align: right;\">\n",
       "      <th></th>\n",
       "      <th>Age_at_scan</th>\n",
       "      <th>sex</th>\n",
       "      <th>TIV_corrected</th>\n",
       "      <th>inti</th>\n",
       "      <th>GA</th>\n",
       "      <th>BW</th>\n",
       "      <th>wie_gesiq</th>\n",
       "    </tr>\n",
       "  </thead>\n",
       "  <tbody>\n",
       "    <tr>\n",
       "      <th>count</th>\n",
       "      <td>83.000000</td>\n",
       "      <td>83.000000</td>\n",
       "      <td>8.300000e+01</td>\n",
       "      <td>82.000000</td>\n",
       "      <td>83.000000</td>\n",
       "      <td>83.000000</td>\n",
       "      <td>80.000000</td>\n",
       "    </tr>\n",
       "    <tr>\n",
       "      <th>mean</th>\n",
       "      <td>26.728926</td>\n",
       "      <td>1.481928</td>\n",
       "      <td>1.561197e+06</td>\n",
       "      <td>11.846707</td>\n",
       "      <td>30.373494</td>\n",
       "      <td>1321.204819</td>\n",
       "      <td>93.562500</td>\n",
       "    </tr>\n",
       "    <tr>\n",
       "      <th>std</th>\n",
       "      <td>0.640219</td>\n",
       "      <td>0.502711</td>\n",
       "      <td>1.487558e+05</td>\n",
       "      <td>3.609270</td>\n",
       "      <td>2.173627</td>\n",
       "      <td>318.989057</td>\n",
       "      <td>11.872576</td>\n",
       "    </tr>\n",
       "    <tr>\n",
       "      <th>min</th>\n",
       "      <td>25.706849</td>\n",
       "      <td>1.000000</td>\n",
       "      <td>1.230073e+06</td>\n",
       "      <td>3.390000</td>\n",
       "      <td>25.000000</td>\n",
       "      <td>730.000000</td>\n",
       "      <td>71.000000</td>\n",
       "    </tr>\n",
       "    <tr>\n",
       "      <th>25%</th>\n",
       "      <td>26.215068</td>\n",
       "      <td>1.000000</td>\n",
       "      <td>1.467277e+06</td>\n",
       "      <td>9.522500</td>\n",
       "      <td>29.000000</td>\n",
       "      <td>1060.000000</td>\n",
       "      <td>85.000000</td>\n",
       "    </tr>\n",
       "    <tr>\n",
       "      <th>50%</th>\n",
       "      <td>26.668493</td>\n",
       "      <td>1.000000</td>\n",
       "      <td>1.562092e+06</td>\n",
       "      <td>12.345000</td>\n",
       "      <td>30.000000</td>\n",
       "      <td>1360.000000</td>\n",
       "      <td>93.000000</td>\n",
       "    </tr>\n",
       "    <tr>\n",
       "      <th>75%</th>\n",
       "      <td>27.271233</td>\n",
       "      <td>2.000000</td>\n",
       "      <td>1.662911e+06</td>\n",
       "      <td>14.495000</td>\n",
       "      <td>31.000000</td>\n",
       "      <td>1497.500000</td>\n",
       "      <td>100.000000</td>\n",
       "    </tr>\n",
       "    <tr>\n",
       "      <th>max</th>\n",
       "      <td>28.342466</td>\n",
       "      <td>2.000000</td>\n",
       "      <td>1.857163e+06</td>\n",
       "      <td>17.580000</td>\n",
       "      <td>36.000000</td>\n",
       "      <td>2070.000000</td>\n",
       "      <td>131.000000</td>\n",
       "    </tr>\n",
       "  </tbody>\n",
       "</table>\n",
       "</div>"
      ],
      "text/plain": [
       "       Age_at_scan        sex  TIV_corrected       inti         GA  \\\n",
       "count    83.000000  83.000000   8.300000e+01  82.000000  83.000000   \n",
       "mean     26.728926   1.481928   1.561197e+06  11.846707  30.373494   \n",
       "std       0.640219   0.502711   1.487558e+05   3.609270   2.173627   \n",
       "min      25.706849   1.000000   1.230073e+06   3.390000  25.000000   \n",
       "25%      26.215068   1.000000   1.467277e+06   9.522500  29.000000   \n",
       "50%      26.668493   1.000000   1.562092e+06  12.345000  30.000000   \n",
       "75%      27.271233   2.000000   1.662911e+06  14.495000  31.000000   \n",
       "max      28.342466   2.000000   1.857163e+06  17.580000  36.000000   \n",
       "\n",
       "                BW   wie_gesiq  \n",
       "count    83.000000   80.000000  \n",
       "mean   1321.204819   93.562500  \n",
       "std     318.989057   11.872576  \n",
       "min     730.000000   71.000000  \n",
       "25%    1060.000000   85.000000  \n",
       "50%    1360.000000   93.000000  \n",
       "75%    1497.500000  100.000000  \n",
       "max    2070.000000  131.000000  "
      ]
     },
     "execution_count": 21,
     "metadata": {},
     "output_type": "execute_result"
    }
   ],
   "source": [
    "descriptive_stats_preterm = preterm_data[measures].describe()\n",
    "descriptive_stats_preterm.to_csv(os.path.join(analysis_dir,'DescriptiveStatsPreterm.csv'), index=True)\n",
    "descriptive_stats_preterm"
   ]
  },
  {
   "cell_type": "code",
   "execution_count": 22,
   "id": "5c04852b",
   "metadata": {},
   "outputs": [
    {
     "name": "stdout",
     "output_type": "stream",
     "text": [
      "43\n"
     ]
    }
   ],
   "source": [
    "# amount males\n",
    "pt_male = preterm_data[preterm_data['sex']==1]\n",
    "n_males = pt_male.shape[0]\n",
    "print(n_males)"
   ]
  },
  {
   "cell_type": "code",
   "execution_count": 23,
   "id": "6c23201c",
   "metadata": {},
   "outputs": [
    {
     "name": "stdout",
     "output_type": "stream",
     "text": [
      "40\n"
     ]
    }
   ],
   "source": [
    "# amount females\n",
    "pt_fem = preterm_data[preterm_data['sex']==2]\n",
    "n_fem = pt_fem.shape[0]\n",
    "print(n_fem)"
   ]
  },
  {
   "cell_type": "markdown",
   "id": "6a1db05b",
   "metadata": {},
   "source": [
    "## Fullterm stats"
   ]
  },
  {
   "cell_type": "code",
   "execution_count": 24,
   "id": "a1b5c859",
   "metadata": {},
   "outputs": [
    {
     "data": {
      "text/html": [
       "<div>\n",
       "<style scoped>\n",
       "    .dataframe tbody tr th:only-of-type {\n",
       "        vertical-align: middle;\n",
       "    }\n",
       "\n",
       "    .dataframe tbody tr th {\n",
       "        vertical-align: top;\n",
       "    }\n",
       "\n",
       "    .dataframe thead th {\n",
       "        text-align: right;\n",
       "    }\n",
       "</style>\n",
       "<table border=\"1\" class=\"dataframe\">\n",
       "  <thead>\n",
       "    <tr style=\"text-align: right;\">\n",
       "      <th></th>\n",
       "      <th>Age_at_scan</th>\n",
       "      <th>sex</th>\n",
       "      <th>TIV_corrected</th>\n",
       "      <th>inti</th>\n",
       "      <th>GA</th>\n",
       "      <th>BW</th>\n",
       "      <th>wie_gesiq</th>\n",
       "    </tr>\n",
       "  </thead>\n",
       "  <tbody>\n",
       "    <tr>\n",
       "      <th>count</th>\n",
       "      <td>92.000000</td>\n",
       "      <td>92.000000</td>\n",
       "      <td>9.200000e+01</td>\n",
       "      <td>1.0</td>\n",
       "      <td>91.000000</td>\n",
       "      <td>91.000000</td>\n",
       "      <td>89.000000</td>\n",
       "    </tr>\n",
       "    <tr>\n",
       "      <th>mean</th>\n",
       "      <td>26.813758</td>\n",
       "      <td>1.423913</td>\n",
       "      <td>1.647537e+06</td>\n",
       "      <td>0.0</td>\n",
       "      <td>39.670330</td>\n",
       "      <td>3399.340659</td>\n",
       "      <td>102.876404</td>\n",
       "    </tr>\n",
       "    <tr>\n",
       "      <th>std</th>\n",
       "      <td>0.766407</td>\n",
       "      <td>0.496885</td>\n",
       "      <td>1.593090e+05</td>\n",
       "      <td>NaN</td>\n",
       "      <td>1.011654</td>\n",
       "      <td>437.210354</td>\n",
       "      <td>11.727803</td>\n",
       "    </tr>\n",
       "    <tr>\n",
       "      <th>min</th>\n",
       "      <td>25.487671</td>\n",
       "      <td>1.000000</td>\n",
       "      <td>1.289947e+06</td>\n",
       "      <td>0.0</td>\n",
       "      <td>37.000000</td>\n",
       "      <td>2120.000000</td>\n",
       "      <td>77.000000</td>\n",
       "    </tr>\n",
       "    <tr>\n",
       "      <th>25%</th>\n",
       "      <td>26.131507</td>\n",
       "      <td>1.000000</td>\n",
       "      <td>1.546094e+06</td>\n",
       "      <td>0.0</td>\n",
       "      <td>39.000000</td>\n",
       "      <td>3135.000000</td>\n",
       "      <td>96.000000</td>\n",
       "    </tr>\n",
       "    <tr>\n",
       "      <th>50%</th>\n",
       "      <td>26.794521</td>\n",
       "      <td>1.000000</td>\n",
       "      <td>1.642290e+06</td>\n",
       "      <td>0.0</td>\n",
       "      <td>40.000000</td>\n",
       "      <td>3410.000000</td>\n",
       "      <td>102.000000</td>\n",
       "    </tr>\n",
       "    <tr>\n",
       "      <th>75%</th>\n",
       "      <td>27.376712</td>\n",
       "      <td>2.000000</td>\n",
       "      <td>1.724494e+06</td>\n",
       "      <td>0.0</td>\n",
       "      <td>40.000000</td>\n",
       "      <td>3680.000000</td>\n",
       "      <td>110.000000</td>\n",
       "    </tr>\n",
       "    <tr>\n",
       "      <th>max</th>\n",
       "      <td>28.901370</td>\n",
       "      <td>2.000000</td>\n",
       "      <td>2.078900e+06</td>\n",
       "      <td>0.0</td>\n",
       "      <td>41.000000</td>\n",
       "      <td>4670.000000</td>\n",
       "      <td>130.000000</td>\n",
       "    </tr>\n",
       "  </tbody>\n",
       "</table>\n",
       "</div>"
      ],
      "text/plain": [
       "       Age_at_scan        sex  TIV_corrected  inti         GA           BW  \\\n",
       "count    92.000000  92.000000   9.200000e+01   1.0  91.000000    91.000000   \n",
       "mean     26.813758   1.423913   1.647537e+06   0.0  39.670330  3399.340659   \n",
       "std       0.766407   0.496885   1.593090e+05   NaN   1.011654   437.210354   \n",
       "min      25.487671   1.000000   1.289947e+06   0.0  37.000000  2120.000000   \n",
       "25%      26.131507   1.000000   1.546094e+06   0.0  39.000000  3135.000000   \n",
       "50%      26.794521   1.000000   1.642290e+06   0.0  40.000000  3410.000000   \n",
       "75%      27.376712   2.000000   1.724494e+06   0.0  40.000000  3680.000000   \n",
       "max      28.901370   2.000000   2.078900e+06   0.0  41.000000  4670.000000   \n",
       "\n",
       "        wie_gesiq  \n",
       "count   89.000000  \n",
       "mean   102.876404  \n",
       "std     11.727803  \n",
       "min     77.000000  \n",
       "25%     96.000000  \n",
       "50%    102.000000  \n",
       "75%    110.000000  \n",
       "max    130.000000  "
      ]
     },
     "execution_count": 24,
     "metadata": {},
     "output_type": "execute_result"
    }
   ],
   "source": [
    "descriptive_stats_fullterm = fullterm_data[measures].describe()\n",
    "descriptive_stats_fullterm.to_csv(os.path.join(analysis_dir, 'DescriptiveStatsFullterm.csv'), index=True)\n",
    "descriptive_stats_fullterm"
   ]
  },
  {
   "cell_type": "code",
   "execution_count": 25,
   "id": "cddefef0",
   "metadata": {},
   "outputs": [
    {
     "name": "stdout",
     "output_type": "stream",
     "text": [
      "53\n"
     ]
    }
   ],
   "source": [
    "# amount males\n",
    "ft_male = fullterm_data[fullterm_data['sex']==1]\n",
    "n_males = ft_male.shape[0]\n",
    "print(n_males)"
   ]
  },
  {
   "cell_type": "code",
   "execution_count": 26,
   "id": "fb8b6bfc",
   "metadata": {},
   "outputs": [
    {
     "name": "stdout",
     "output_type": "stream",
     "text": [
      "39\n"
     ]
    }
   ],
   "source": [
    "# amount females\n",
    "ft_fem = fullterm_data[fullterm_data['sex']==2]\n",
    "n_fem = ft_fem.shape[0]\n",
    "print(n_fem)"
   ]
  },
  {
   "cell_type": "markdown",
   "id": "5e6491a3",
   "metadata": {},
   "source": [
    "# Group comparisons"
   ]
  },
  {
   "cell_type": "markdown",
   "id": "8b557b22",
   "metadata": {},
   "source": [
    "## Sex"
   ]
  },
  {
   "cell_type": "code",
   "execution_count": 27,
   "id": "f1d37480",
   "metadata": {},
   "outputs": [
    {
     "name": "stdout",
     "output_type": "stream",
     "text": [
      "[[43, 53], [40, 39]]\n",
      "Chi2ContingencyResult(statistic=0.38190295147983194, pvalue=0.5365865644261065, dof=1, expected_freq=array([[45.53142857, 50.46857143],\n",
      "       [37.46857143, 41.53142857]]))\n"
     ]
    }
   ],
   "source": [
    "# create contingency table\n",
    "contingency_table = [[(preterm_data['sex'] == 1).sum(), (fullterm_data['sex'] == 1).sum()],\n",
    "                     [(preterm_data['sex'] == 2).sum(), (fullterm_data['sex'] == 2).sum()]]\n",
    "print(contingency_table)\n",
    "\n",
    "# Perform chi-square test\n",
    "print(chi2_contingency(contingency_table))"
   ]
  },
  {
   "cell_type": "markdown",
   "id": "0a8aa4a5",
   "metadata": {},
   "source": [
    "## Age"
   ]
  },
  {
   "cell_type": "code",
   "execution_count": 28,
   "id": "8f2d4863",
   "metadata": {},
   "outputs": [
    {
     "name": "stdout",
     "output_type": "stream",
     "text": [
      "Ttest_indResult(statistic=-0.7899255830516784, pvalue=0.43065261664351395)\n"
     ]
    }
   ],
   "source": [
    "var='Age_at_scan'\n",
    "print(stats.ttest_ind(preterm_data[var], fullterm_data[var]))"
   ]
  },
  {
   "cell_type": "markdown",
   "id": "7aa0b3ed",
   "metadata": {},
   "source": [
    "## Gestational age"
   ]
  },
  {
   "cell_type": "code",
   "execution_count": 29,
   "id": "9d92ba92",
   "metadata": {},
   "outputs": [
    {
     "name": "stdout",
     "output_type": "stream",
     "text": [
      "Ttest_indResult(statistic=-36.68393303981656, pvalue=3.037607077361392e-83)\n"
     ]
    }
   ],
   "source": [
    "var='GA'\n",
    "print(stats.ttest_ind(preterm_data[var], fullterm_data[var], nan_policy='omit'))"
   ]
  },
  {
   "cell_type": "markdown",
   "id": "be601f09",
   "metadata": {},
   "source": [
    "## Birth weight"
   ]
  },
  {
   "cell_type": "code",
   "execution_count": 30,
   "id": "3c802da8",
   "metadata": {},
   "outputs": [
    {
     "name": "stdout",
     "output_type": "stream",
     "text": [
      "Ttest_indResult(statistic=-35.52616311635247, pvalue=3.984258013352533e-81)\n"
     ]
    }
   ],
   "source": [
    "var='BW'\n",
    "print(stats.ttest_ind(preterm_data[var], fullterm_data[var], nan_policy='omit'))"
   ]
  },
  {
   "cell_type": "markdown",
   "id": "52f6bcd5",
   "metadata": {},
   "source": [
    "## eTIV"
   ]
  },
  {
   "cell_type": "code",
   "execution_count": 31,
   "id": "8bd084d8",
   "metadata": {},
   "outputs": [
    {
     "name": "stdout",
     "output_type": "stream",
     "text": [
      "Ttest_indResult(statistic=-3.693923931411879, pvalue=0.0002959245542876834)\n"
     ]
    }
   ],
   "source": [
    "var='TIV_corrected'\n",
    "print(stats.ttest_ind(preterm_data[var], fullterm_data[var]))"
   ]
  },
  {
   "cell_type": "markdown",
   "id": "e31fc31c",
   "metadata": {},
   "source": [
    "## full-scale IQ"
   ]
  },
  {
   "cell_type": "code",
   "execution_count": 32,
   "id": "861895d1",
   "metadata": {},
   "outputs": [
    {
     "name": "stdout",
     "output_type": "stream",
     "text": [
      "Ttest_indResult(statistic=-5.124775889127329, pvalue=8.158915551954021e-07)\n"
     ]
    }
   ],
   "source": [
    "var='wie_gesiq'\n",
    "print(stats.ttest_ind(preterm_data[var], fullterm_data[var], nan_policy='omit'))"
   ]
  },
  {
   "cell_type": "code",
   "execution_count": null,
   "id": "12d49398",
   "metadata": {},
   "outputs": [],
   "source": []
  }
 ],
 "metadata": {
  "kernelspec": {
   "display_name": "Python 3 (ipykernel)",
   "language": "python",
   "name": "python3"
  },
  "language_info": {
   "codemirror_mode": {
    "name": "ipython",
    "version": 3
   },
   "file_extension": ".py",
   "mimetype": "text/x-python",
   "name": "python",
   "nbconvert_exporter": "python",
   "pygments_lexer": "ipython3",
   "version": "3.10.14"
  },
  "toc": {
   "base_numbering": 1,
   "nav_menu": {},
   "number_sections": true,
   "sideBar": true,
   "skip_h1_title": false,
   "title_cell": "Table of Contents",
   "title_sidebar": "Contents",
   "toc_cell": false,
   "toc_position": {},
   "toc_section_display": true,
   "toc_window_display": false
  }
 },
 "nbformat": 4,
 "nbformat_minor": 5
}
